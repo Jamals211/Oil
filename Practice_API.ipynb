{
 "cells": [
  {
   "cell_type": "code",
   "execution_count": 1,
   "metadata": {},
   "outputs": [],
   "source": [
    "import numpy as np\n",
    "import pandas as pd\n",
    "import time\n",
    "from scipy.stats import linregress\n",
    "from datetime import datetime\n",
    "import time\n",
    "from datetime import date, timedelta\n",
    "import matplotlib.pyplot as plt\n",
    "import matplotlib.dates as mdates\n",
    "import matplotlib.lines as mlines\n",
    "import datetime\n",
    "# Import the API key.\n",
    "from config import EIA_key\n",
    "import eia\n",
    "# Import the requests library.\n",
    "import requests"
   ]
  },
  {
   "cell_type": "code",
   "execution_count": 2,
   "metadata": {},
   "outputs": [],
   "source": [
    "API_Call=f\"http://api.eia.gov/series/?api_key={EIA_key}&series_id=PET.WCESTUS1.W\"\n",
    "Series_Name= \"U.S. Ending Stocks of Total Gasoline, Weekly\"\n",
    "Series_ID= \"PET.WGTSTUS1.W\"\n",
    "#install EIA package--- pip install EIA_python\n",
    "#pip install pyOpenSSL to get around SSL error\n",
    "api_key = EIA_key\n",
    "api = eia.API(api_key)"
   ]
  },
  {
   "cell_type": "code",
   "execution_count": 3,
   "metadata": {},
   "outputs": [
    {
     "ename": "NameError",
     "evalue": "name 'retrieve_time_series' is not defined",
     "output_type": "error",
     "traceback": [
      "\u001b[1;31m---------------------------------------------------------------------------\u001b[0m",
      "\u001b[1;31mNameError\u001b[0m                                 Traceback (most recent call last)",
      "\u001b[1;32m<ipython-input-3-5769e6b543be>\u001b[0m in \u001b[0;36m<module>\u001b[1;34m\u001b[0m\n\u001b[0;32m      3\u001b[0m \u001b[0mapi_key\u001b[0m \u001b[1;33m=\u001b[0m \u001b[0mEIA_key\u001b[0m\u001b[1;33m\u001b[0m\u001b[1;33m\u001b[0m\u001b[0m\n\u001b[0;32m      4\u001b[0m \u001b[0mapi\u001b[0m \u001b[1;33m=\u001b[0m \u001b[0meia\u001b[0m\u001b[1;33m.\u001b[0m\u001b[0mAPI\u001b[0m\u001b[1;33m(\u001b[0m\u001b[0mapi_key\u001b[0m\u001b[1;33m)\u001b[0m\u001b[1;33m\u001b[0m\u001b[1;33m\u001b[0m\u001b[0m\n\u001b[1;32m----> 5\u001b[1;33m \u001b[0mdf\u001b[0m\u001b[1;33m=\u001b[0m\u001b[0mretrieve_time_series\u001b[0m\u001b[1;33m(\u001b[0m\u001b[0mapi\u001b[0m\u001b[1;33m,\u001b[0m \u001b[0mSeries_ID\u001b[0m\u001b[1;33m)\u001b[0m\u001b[1;33m\u001b[0m\u001b[1;33m\u001b[0m\u001b[0m\n\u001b[0m\u001b[0;32m      6\u001b[0m \u001b[1;32mif\u001b[0m \u001b[0m__name__\u001b[0m\u001b[1;33m==\u001b[0m \u001b[1;34m\"__main__\"\u001b[0m\u001b[1;33m:\u001b[0m\u001b[1;33m\u001b[0m\u001b[1;33m\u001b[0m\u001b[0m\n\u001b[0;32m      7\u001b[0m     \u001b[0mmain\u001b[0m\u001b[1;33m(\u001b[0m\u001b[1;33m)\u001b[0m\u001b[1;33m\u001b[0m\u001b[1;33m\u001b[0m\u001b[0m\n",
      "\u001b[1;31mNameError\u001b[0m: name 'retrieve_time_series' is not defined"
     ]
    }
   ],
   "source": [
    "series_search = api.data_by_series(series=Series_ID)\n",
    "df = pd.DataFrame(series_search)\n",
    "api_key = EIA_key\n",
    "api = eia.API(api_key)\n",
    "df=retrieve_time_series(api, Series_ID)\n",
    "if __name__== \"__main__\":\n",
    "    main()   \n",
    "# df['U.S. Ending Stocks of Total Gasoline, Weekly (Thousand Barrels)'] = pd.to_datetime(df['U.S. Ending Stocks of Total Gasoline, Weekly (Thousand Barrels)'].str[:-3], format='%Y %m%d')\n",
    "df.reset_index(inplace=True)\n"
   ]
  },
  {
   "cell_type": "code",
   "execution_count": null,
   "metadata": {},
   "outputs": [],
   "source": [
    "\n",
    "# df['index']= df['index'][x[:-3] for x in test]\n",
    "# df['index']\n",
    "\n",
    "test=df['Date']\n",
    "length = len(test)          # for reading and writing sakes, len(A): lenght of A\n",
    "newtest = [None] * length          # newtest = [none, none, none], go look up empty array creation\n",
    "strLen = 0 \n",
    "\n",
    "\n",
    "for i in range(0, length):             # for loop\n",
    "    str = test[i]                      # get n th element of test\n",
    "    strLen = len(str)                  # for reading sake, the lenght of string that will be spliced\n",
    "    df['Date'][i] = str[0:strLen - 3] # n th element of newtest is the spliced n th element from test\n",
    "def format_date(row_value):\n",
    "    #split string on space and slice out the first two parts\n",
    "    year=row_value.split(\" \")[0]\n",
    "    month=row_value.split(\" \")[1][:2]\n",
    "    day = row_value.split(\" \")[1][2:]\n",
    "    return f\"{year}{month}{day}\"\n",
    "df['Date']=df['Date'].map(format_date)"
   ]
  },
  {
   "cell_type": "code",
   "execution_count": null,
   "metadata": {
    "scrolled": true
   },
   "outputs": [],
   "source": [
    "df['Date']=pd.to_datetime(df['Date'].astype(int), format='%Y%m%d')"
   ]
  },
  {
   "cell_type": "code",
   "execution_count": null,
   "metadata": {},
   "outputs": [],
   "source": [
    "start_date = \"2020-01-01\"\n",
    "end_date =  datetime.datetime.now()\n",
    "# end_date= datetime.datetime.now()"
   ]
  },
  {
   "cell_type": "code",
   "execution_count": null,
   "metadata": {},
   "outputs": [],
   "source": [
    "gasoline_date_df=df[(df['Date']>start_date)& (df['Date']< end_date)]"
   ]
  },
  {
   "cell_type": "code",
   "execution_count": null,
   "metadata": {},
   "outputs": [],
   "source": [
    "# plot just crude prices on one graph\n",
    "fig, ax1=plt.subplots(frameon=False)\n",
    "\n",
    "ax1.set_xlabel('Date')\n",
    "ax1.set_ylabel('Gasoline Storage')\n",
    "ax1.plot(gasoline_date_df['Date'],gasoline_date_df['Gas'], color='orange')\n",
    "ax1.xaxis.set_major_formatter(mdates.DateFormatter(\"%Y-%m\"))\n",
    "_=plt.xticks(rotation=45)\n",
    "ax1.tick_params(axis='y')\n",
    "ax1.set_title(\"Gasoline Stocks\")\n",
    "\n",
    "# defining legend style and data\n",
    "blue_line = mlines.Line2D([], [], color='orange', label='Gasoline Stocks')\n",
    "plt.legend(handles=[blue_line])\n",
    "plt.savefig(\"GasolineAPI.png\", bbox_inches='tight')"
   ]
  },
  {
   "cell_type": "code",
   "execution_count": null,
   "metadata": {},
   "outputs": [],
   "source": [
    "# # define a series and pass through api and Series_ID\n",
    "# def retrieve_time_series(api, Series_ID):\n",
    "#     \"\"\"\n",
    "#     Return the time series dataframe, based on API and unique Series ID\n",
    "#     \"\"\"\n",
    "#     #Retrieve Data By Series ID \n",
    "#     series_search = api.data_by_series(series=Series_ID)\n",
    "#     ##Create a pandas dataframe from the retrieved time series\n",
    "#     df = pd.DataFrame(series_search)\n",
    "#     return df\n",
    "# # define another function main to run the script through\n",
    "# def main():\n",
    "#     \"\"\"\n",
    "#     Run main script\n",
    "#     \"\"\"\n",
    "#     #Create EIA API using your specific API key\n",
    "#     api_key = EIA_key\n",
    "#     api = eia.API(api_key)\n",
    "# #     #Declare desired series ID\n",
    "# #     Series_ID=\"PET.WGTSTUS1.W\"\n",
    "#     df=retrieve_time_series(api, Series_ID)\n",
    "#     #Print the returned dataframe df\n",
    "#     print(df)\n",
    "\n",
    "# if __name__== \"__main__\":\n",
    "#     main()\n",
    "# req = requests.get(API_Call, verify = False)"
   ]
  },
  {
   "cell_type": "code",
   "execution_count": null,
   "metadata": {},
   "outputs": [],
   "source": []
  },
  {
   "cell_type": "code",
   "execution_count": null,
   "metadata": {},
   "outputs": [],
   "source": []
  }
 ],
 "metadata": {
  "kernelspec": {
   "display_name": "Python 3",
   "language": "python",
   "name": "python3"
  },
  "language_info": {
   "codemirror_mode": {
    "name": "ipython",
    "version": 3
   },
   "file_extension": ".py",
   "mimetype": "text/x-python",
   "name": "python",
   "nbconvert_exporter": "python",
   "pygments_lexer": "ipython3",
   "version": "3.7.7"
  }
 },
 "nbformat": 4,
 "nbformat_minor": 4
}
