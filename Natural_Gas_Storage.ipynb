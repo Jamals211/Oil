{
 "cells": [
  {
   "cell_type": "code",
   "execution_count": 30,
   "metadata": {},
   "outputs": [],
   "source": [
    "import numpy as np\n",
    "import pandas as pd\n",
    "#import time dependencies\n",
    "from datetime import datetime\n",
    "import time\n",
    "from datetime import date, timedelta\n",
    "import datetime\n",
    "#import statistics dependencies\n",
    "from scipy.stats import linregress\n",
    "#import matplotlib dependencies\n",
    "import matplotlib.pyplot as plt\n",
    "import matplotlib.dates as mdates\n",
    "import matplotlib.lines as mlines\n",
    "# Import the API key.\n",
    "from config import EIA_key\n",
    "import eia\n",
    "# Import the requests library.\n",
    "import requests"
   ]
  },
  {
   "cell_type": "markdown",
   "metadata": {},
   "source": [
    "#### Start and End Date for Matplotlib"
   ]
  },
  {
   "cell_type": "code",
   "execution_count": 31,
   "metadata": {},
   "outputs": [],
   "source": [
    "start_date = \"2018-01-01\"\n",
    "end_date =  datetime.datetime.now()\n",
    "# end_date= datetime.datetime.now()"
   ]
  },
  {
   "cell_type": "markdown",
   "metadata": {},
   "source": [
    "# API Call for UK/Turkish/Spanish/South Korean/Japanese/Chinese/Italian/French Gas Imports"
   ]
  },
  {
   "cell_type": "code",
   "execution_count": 32,
   "metadata": {},
   "outputs": [],
   "source": [
    "# UK API\n",
    "API_Call_US=f\"http://api.eia.gov/series/?api_key={EIA_key}&series_id=NG.NW2_EPG0_SWO_R48_BCF.W\"\n",
    "Series_Name_US= \"Weekly Lower 48 States Natural Gas Working Underground Storage, Weekly\"\n",
    "Series_ID_US= \"NG.NW2_EPG0_SWO_R48_BCF.W\"\n",
    "# Turkish API\n",
    "API_Call_East=f\"http://api.eia.gov/series/?api_key={EIA_key}&series_id=NG.NW2_EPG0_SWO_R31_BCF.W\"\n",
    "Series_Name_East= \"Weekly East Region Natural Gas Working Underground Storage, Weekly\"\n",
    "Series_ID_East= \"NG.NW2_EPG0_SWO_R31_BCF.W\"\n",
    "#Spanish API\n",
    "API_Call_MidWest=f\"http://api.eia.gov/series/?api_key={EIA_key}&series_id=NG.NW2_EPG0_SWO_R32_BCF.W\"\n",
    "Series_Name_MidWest= \"Weekly Midwest Region Natural Gas Working Underground Storage, Weekly\"\n",
    "Series_ID_MidWest= \"NG.NW2_EPG0_SWO_R32_BCF.W\"\n",
    "#South Korean API\n",
    "API_Call_Mountain=f\"http://api.eia.gov/series/?api_key={EIA_key}&series_id=NG.NW2_EPG0_SWO_R34_BCF.W\"\n",
    "Series_Name_Mountain= \"Weekly Mountain Region Natural Gas Working Underground Storage, Weekly\"\n",
    "Series_ID_Mountain= \"NG.NW2_EPG0_SWO_R34_BCF.W\"\n",
    "#Japanese API\n",
    "API_Call_Pacific=f\"http://api.eia.gov/series/?api_key={EIA_key}&series_id=NG.NW2_EPG0_SWO_R35_BCF.W\"\n",
    "Series_Name_Pacific= \"Weekly Pacific Region Natural Gas Working Underground Storage, Weekly\"\n",
    "Series_ID_Pacific= \"NG.NW2_EPG0_SWO_R35_BCF.W\"\n",
    "#Chinese API\n",
    "API_Call_SCentral=f\"http://api.eia.gov/series/?api_key={EIA_key}&series_id=NG.NW2_EPG0_SWO_R33_BCF.W\"\n",
    "Series_Name_SCentral= \"Weekly South Central Region Natural Gas Working Underground Storage, Weekly\"\n",
    "Series_ID_SCentral= \"NG.NW2_EPG0_SWO_R33_BCF.W\""
   ]
  },
  {
   "cell_type": "code",
   "execution_count": 33,
   "metadata": {},
   "outputs": [],
   "source": [
    "API_Calls=[API_Call_US, API_Call_East, API_Call_MidWest, API_Call_Mountain, API_Call_Pacific, API_Call_SCentral]\n",
    "Series_Names=[Series_Name_US, Series_Name_East, Series_Name_MidWest, Series_Name_Mountain, Series_Name_Pacific, Series_Name_SCentral]\n",
    "Series_IDs=[Series_ID_US, Series_ID_East, Series_ID_MidWest, Series_ID_Mountain, Series_ID_Pacific, Series_ID_SCentral]\n",
    "\n",
    "list_headers=['Weekly Lower 48 States Natural Gas Working Underground Storage, Weekly (Billion Cubic Feet)',\n",
    "             'Weekly East Region Natural Gas Working Underground Storage, Weekly (Billion Cubic Feet)',\n",
    "             'Weekly Midwest Region Natural Gas Working Underground Storage, Weekly (Billion Cubic Feet)',\n",
    "             'Weekly Mountain Region Natural Gas Working Underground Storage, Weekly (Billion Cubic Feet)',\n",
    "             'Weekly Pacific Region Natural Gas Working Underground Storage, Weekly (Billion Cubic Feet)',\n",
    "             'Weekly South Central  Region Natural Gas Working Underground Storage, Weekly (Billion Cubic Feet)']\n",
    "numbers=(1,2,3,4,5,6)\n",
    "names=('US_Storage','EastCoastStorage','MidWestStorage','MountainStorage','PacificStorage','SouthCentralStorage')"
   ]
  },
  {
   "cell_type": "code",
   "execution_count": null,
   "metadata": {},
   "outputs": [],
   "source": [
    "d={}\n",
    "imports=[] \n",
    "bigdf = pd.DataFrame()\n",
    "US_Storage=pd.DataFrame()\n",
    "EastCoastStorage=pd.DataFrame()\n",
    "MidWestStorage=pd.DataFrame()\n",
    "MountainStorage=pd.DataFrame()\n",
    "PacificStorage=pd.DataFrame()\n",
    "SouthCentralStorage=pd.DataFrame()\n",
    "\n",
    "for i,j,k,m,n,name in zip(API_Calls, Series_Names, Series_IDs, list_headers, numbers, names):\n",
    "    API_Call=i\n",
    "    Series_Name= j\n",
    "    Series_ID= k\n",
    "    #install EIA package--- pip install EIA_python\n",
    "    #pip install pyOpenSSL to get around SSL error\n",
    "    #these are the API keys I set up\n",
    "    api_key = EIA_key\n",
    "    api = eia.API(api_key)\n",
    "    #import data but still need to clean it\n",
    "    series_search = api.data_by_series(series=Series_ID)\n",
    "    df = pd.DataFrame(series_search)\n",
    "    # define a series and pass through api and Series_ID\n",
    "    def retrieve_time_series(api, Series_ID):\n",
    "        \"\"\"\n",
    "        Return the time series dataframe, based on API and unique Series ID\n",
    "        \"\"\"\n",
    "        #Retrieve Data By Series ID \n",
    "        series_search = api.data_by_series(series=Series_ID)\n",
    "        ##Create a pandas dataframe from the retrieved time series\n",
    "        global df\n",
    "        df = pd.DataFrame(series_search)\n",
    "        return df\n",
    "    # define another function main to run the script through\n",
    "    def main():\n",
    "        \"\"\"\n",
    "        Run main script\n",
    "        \"\"\"\n",
    "        #Create EIA API using your specific API key\n",
    "        api_key = EIA_key\n",
    "        api = eia.API(api_key)\n",
    "    #     #Declare desired series ID\n",
    "    #     Series_ID=\"PET.WGTSTUS1.W\"\n",
    "        df=retrieve_time_series(api, Series_ID)\n",
    "        #Print the returned dataframe df\n",
    "        print(df)\n",
    "    req = requests.get(i, verify = False)\n",
    "    #Clean the dataframe by resetting the index because the date is automatically set as the index\n",
    "    df.reset_index(inplace=True)\n",
    "    #{original header: new name given}\n",
    "    df.rename(columns={m:name}, inplace=True)\n",
    "    #{index:Date}\n",
    "    df.rename(columns={'index':'Date'}, inplace=True)\n",
    "    #create a dataframe [[date, name of each country]]\n",
    "    d=df[['Date', name]]\n",
    "    #convert date to datetime[64]\n",
    "    d['Date']=pd.to_datetime(d['Date'], errors='coerce')\n",
    "    bigdf['Date']=d['Date']\n",
    "    bigdf[name] = d[name]\n",
    "bigdf"
   ]
  },
  {
   "cell_type": "markdown",
   "metadata": {},
   "source": [
    "# Chinese Imports of Natural Gas From the US"
   ]
  },
  {
   "cell_type": "code",
   "execution_count": null,
   "metadata": {},
   "outputs": [],
   "source": [
    "# plot crude storage and gasoline storage on one graph with two axes\n",
    "fig, ax1=plt.subplots(frameon=True, figsize=(10,5))\n",
    "ax1.set_xlabel('Date')\n",
    "ax1.set_ylabel('Imports of US Natural Gas (tcf)')\n",
    "ax1.plot(bigdf['Date'], bigdf['Chinese_Gas_Imports'], color='red')\n",
    "ax1.xaxis.set_major_formatter(mdates.DateFormatter(\"%Y-%m\"))\n",
    "_=plt.xticks(rotation=45)\n",
    "ax1.tick_params(axis='y')\n",
    "ax1.set_title(\"Chinese Imports of US Natural Gas\")\n",
    "ax1.grid()\n",
    "red_line = mlines.Line2D([], [], color='red', label='Chinese Gas Imports')\n",
    "plt.legend(handles=[red_line], loc='upper center')\n",
    "plt.savefig(\"Imports_By_Country_Images/Chinese_Gas_Imports.png\", bbox_inches='tight')"
   ]
  },
  {
   "cell_type": "markdown",
   "metadata": {},
   "source": [
    "# Japanese Gas Imports of Natural Gas From the US"
   ]
  },
  {
   "cell_type": "code",
   "execution_count": null,
   "metadata": {},
   "outputs": [],
   "source": [
    "# plot crude storage and gasoline storage on one graph with two axes\n",
    "fig, ax1=plt.subplots(frameon=False, figsize=(10,5))\n",
    "ax1.set_xlabel('Date')\n",
    "ax1.set_ylabel('Imports of US Natural Gas (tcf)')\n",
    "ax1.plot(bigdf['Date'], bigdf['Japanese_Gas_Imports'], color='blue')\n",
    "ax1.xaxis.set_major_formatter(mdates.DateFormatter(\"%Y-%m\"))\n",
    "_=plt.xticks(rotation=45)\n",
    "# ax1.tick_params(axis='y')\n",
    "ax1.set_title(\"Japanese Imports of US Natural Gas\")\n",
    "ax1.grid()\n",
    "red_line = mlines.Line2D([], [], color='blue', label='Japanese Gas Imports')\n",
    "plt.legend(handles=[red_line], loc='upper center')\n",
    "plt.savefig(\"Imports_By_Country_Images/Jap_Gas_Imports.png\", bbox_inches='tight')"
   ]
  },
  {
   "cell_type": "markdown",
   "metadata": {},
   "source": [
    "# Korean/Japanese/Chinese Natural Gas Imports From the US"
   ]
  },
  {
   "cell_type": "code",
   "execution_count": null,
   "metadata": {},
   "outputs": [],
   "source": [
    "# plot crude storage and gasoline storage on one graph with two axes\n",
    "fig, ax=plt.subplots(frameon=False, figsize=(10,5))\n",
    "ax.set_xlabel('Date')\n",
    "ax.set_ylabel('Imports of US Natural Gas (tcf)')\n",
    "ax.plot(bigdf['Date'], bigdf['Korean_Gas_Imports'], color='green')\n",
    "ax.plot(bigdf['Date'], bigdf['Japanese_Gas_Imports'], color='blue')\n",
    "ax.plot(bigdf['Date'], bigdf['Chinese_Gas_Imports'], color='red')\n",
    "ax.xaxis.set_major_formatter(mdates.DateFormatter(\"%Y-%m\"))\n",
    "_=plt.xticks(rotation=45)\n",
    "# ax1.tick_params(axis='y')\n",
    "ax.set_title(\"Imports of US Natural Gas\")\n",
    "ax.grid()\n",
    "\n",
    "green_line = mlines.Line2D([], [], color='green', label='Korean Gas Imports')\n",
    "blue_line = mlines.Line2D([], [], color='blue', label='Japanese Gas Imports')\n",
    "red_line = mlines.Line2D([], [], color='red', label='Chinese Gas Imports')\n",
    "\n",
    "plt.legend(handles=[green_line, blue_line, red_line], loc='upper left')\n",
    "plt.savefig(\"Imports_By_Country_Images/Korean_Gas_Imports.png\", bbox_inches='tight')"
   ]
  },
  {
   "cell_type": "code",
   "execution_count": null,
   "metadata": {},
   "outputs": [],
   "source": []
  },
  {
   "cell_type": "code",
   "execution_count": null,
   "metadata": {},
   "outputs": [],
   "source": []
  }
 ],
 "metadata": {
  "kernelspec": {
   "display_name": "PythonData",
   "language": "python",
   "name": "pythondata"
  },
  "language_info": {
   "codemirror_mode": {
    "name": "ipython",
    "version": 3
   },
   "file_extension": ".py",
   "mimetype": "text/x-python",
   "name": "python",
   "nbconvert_exporter": "python",
   "pygments_lexer": "ipython3",
   "version": "3.7.7"
  }
 },
 "nbformat": 4,
 "nbformat_minor": 4
}
