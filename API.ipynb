{
 "cells": [
  {
   "cell_type": "code",
   "execution_count": 1,
   "metadata": {},
   "outputs": [],
   "source": [
    "import numpy as np\n",
    "import pandas as pd\n",
    "# Import the requests library.\n",
    "import requests\n",
    "# Import the API key.\n",
    "from config import EIA_key\n",
    "import eia\n",
    "import datetime\n",
    "from datetime import datetime"
   ]
  },
  {
   "cell_type": "code",
   "execution_count": 2,
   "metadata": {},
   "outputs": [],
   "source": [
    "API_Call=f\"http://api.eia.gov/series/?api_key={EIA_key}&series_id=PET.WCESTUS1.W\"\n",
    "Series_Name= \"U.S. Ending Stocks of Total Gasoline, Weekly\"\n",
    "Series_ID= \"PET.WGTSTUS1.W\""
   ]
  },
  {
   "cell_type": "code",
   "execution_count": 3,
   "metadata": {},
   "outputs": [],
   "source": [
    "#install EIA package--- pip install EIA_python\n",
    "#pip install pyOpenSSL to get around SSL error\n",
    "api_key = EIA_key\n",
    "api = eia.API(api_key)"
   ]
  },
  {
   "cell_type": "code",
   "execution_count": 4,
   "metadata": {
    "scrolled": true
   },
   "outputs": [
    {
     "name": "stdout",
     "output_type": "stream",
     "text": [
      "              U.S. Ending Stocks of Total Gasoline, Weekly (Thousand Barrels)\n",
      "1990 0105 05                                             210982              \n",
      "1990 0112 12                                             215395              \n",
      "1990 0119 19                                             219221              \n",
      "1990 0126 26                                             229695              \n",
      "1990 0202 02                                             234249              \n",
      "...                                                         ...              \n",
      "2020 0710 10                                             248535              \n",
      "2020 0717 17                                             246733              \n",
      "2020 0724 24                                             247387              \n",
      "2020 0731 31                                             247806              \n",
      "2020 0807 07                                             247084              \n",
      "\n",
      "[1597 rows x 1 columns]\n"
     ]
    }
   ],
   "source": [
    "# define a series and pass through api and Series_ID\n",
    "def retrieve_time_series(api, Series_ID):\n",
    "    \"\"\"\n",
    "    Return the time series dataframe, based on API and unique Series ID\n",
    "    \"\"\"\n",
    "    #Retrieve Data By Series ID \n",
    "    series_search = api.data_by_series(series=Series_ID)\n",
    "    ##Create a pandas dataframe from the retrieved time series\n",
    "    df = pd.DataFrame(series_search)\n",
    "    return df\n",
    "# define another function main to run the script through\n",
    "def main():\n",
    "    \"\"\"\n",
    "    Run main script\n",
    "    \"\"\"\n",
    "    #Create EIA API using your specific API key\n",
    "    api_key = EIA_key\n",
    "    api = eia.API(api_key)\n",
    "#     #Declare desired series ID\n",
    "#     Series_ID=\"PET.WGTSTUS1.W\"\n",
    "    df=retrieve_time_series(api, Series_ID)\n",
    "    #Print the returned dataframe df\n",
    "    print(df)\n",
    "\n",
    "if __name__== \"__main__\":\n",
    "    main()\n",
    "    \n",
    "req = requests.get(API_Call, verify = False)"
   ]
  },
  {
   "cell_type": "code",
   "execution_count": 5,
   "metadata": {},
   "outputs": [
    {
     "name": "stdout",
     "output_type": "stream",
     "text": [
      "              U.S. Ending Stocks of Total Gasoline, Weekly (Thousand Barrels)\n",
      "1990 0105 05                                             210982              \n",
      "1990 0112 12                                             215395              \n",
      "1990 0119 19                                             219221              \n",
      "1990 0126 26                                             229695              \n",
      "1990 0202 02                                             234249              \n",
      "...                                                         ...              \n",
      "2020 0710 10                                             248535              \n",
      "2020 0717 17                                             246733              \n",
      "2020 0724 24                                             247387              \n",
      "2020 0731 31                                             247806              \n",
      "2020 0807 07                                             247084              \n",
      "\n",
      "[1597 rows x 1 columns]\n"
     ]
    },
    {
     "data": {
      "text/plain": [
       "0       1990 0105 05\n",
       "1       1990 0112 12\n",
       "2       1990 0119 19\n",
       "3       1990 0126 26\n",
       "4       1990 0202 02\n",
       "            ...     \n",
       "1592    2020 0710 10\n",
       "1593    2020 0717 17\n",
       "1594    2020 0724 24\n",
       "1595    2020 0731 31\n",
       "1596    2020 0807 07\n",
       "Name: index, Length: 1597, dtype: object"
      ]
     },
     "execution_count": 5,
     "metadata": {},
     "output_type": "execute_result"
    }
   ],
   "source": [
    "series_search = api.data_by_series(series=Series_ID)\n",
    "df = pd.DataFrame(series_search)\n",
    "api_key = EIA_key\n",
    "api = eia.API(api_key)\n",
    "df=retrieve_time_series(api, Series_ID)\n",
    "if __name__== \"__main__\":\n",
    "    main()   \n",
    "# df['U.S. Ending Stocks of Total Gasoline, Weekly (Thousand Barrels)'] = pd.to_datetime(df['U.S. Ending Stocks of Total Gasoline, Weekly (Thousand Barrels)'].str[:-3], format='%Y %m%d')\n",
    "df.reset_index(inplace=True)\n",
    "df['index']"
   ]
  },
  {
   "cell_type": "code",
   "execution_count": 6,
   "metadata": {},
   "outputs": [],
   "source": [
    "len(df['index'][0])\n",
    "index_to_remove = 4"
   ]
  },
  {
   "cell_type": "code",
   "execution_count": 7,
   "metadata": {},
   "outputs": [
    {
     "ename": "SyntaxError",
     "evalue": "invalid syntax (<ipython-input-7-2ca3d8d31030>, line 16)",
     "output_type": "error",
     "traceback": [
      "\u001b[1;36m  File \u001b[1;32m\"<ipython-input-7-2ca3d8d31030>\"\u001b[1;36m, line \u001b[1;32m16\u001b[0m\n\u001b[1;33m    df['index'] =  e for i, e in enumerate(df['index']) if i != index_to_remove\u001b[0m\n\u001b[1;37m                       ^\u001b[0m\n\u001b[1;31mSyntaxError\u001b[0m\u001b[1;31m:\u001b[0m invalid syntax\n"
     ]
    }
   ],
   "source": [
    "df.rename(columns={'U.S. Ending Stocks of Total Gasoline, Weekly (Thousand Barrels)':'Gas'}, inplace=True)\n",
    "# df['index']= df['index'][x[:-3] for x in test]\n",
    "# df['index']\n",
    "\n",
    "test=df['index']\n",
    "length = len(test)          # for reading and writing sakes, len(A): lenght of A\n",
    "newtest = [None] * length          # newtest = [none, none, none], go look up empty array creation\n",
    "strLen = 0 \n",
    "\n",
    "\n",
    "for i in range(0, length):             # for loop\n",
    "    str = test[i]                      # get n th element of test\n",
    "    strLen = len(str)                  # for reading sake, the lenght of string that will be spliced\n",
    "    df['index'][i] = str[0:strLen - 3] # n th element of newtest is the spliced n th element from test\n",
    "    \n",
    "    \n",
    "    \n",
    "    \n",
    "#     df['index'][i] = del str [3:5]\n",
    "#     df['index'] =  e for i, e in enumerate(df['index']) if i != index_to_remove\n",
    "#     df['index'] = df['index'][0:index_to_remove] + df['index'][index_to_remove + 1:]\n",
    "\n",
    "\n",
    "\n",
    "# c = [e for i, e in enumerate(c) if i != index_to_remove]\n",
    "df['index']\n",
    "\n"
   ]
  },
  {
   "cell_type": "code",
   "execution_count": null,
   "metadata": {},
   "outputs": [],
   "source": [
    "df['index'].dtype"
   ]
  },
  {
   "cell_type": "code",
   "execution_count": null,
   "metadata": {},
   "outputs": [],
   "source": [
    "l=[0,1,2,3,4,4]\n",
    "del l[0]\n",
    "l"
   ]
  },
  {
   "cell_type": "code",
   "execution_count": null,
   "metadata": {},
   "outputs": [],
   "source": []
  },
  {
   "cell_type": "code",
   "execution_count": null,
   "metadata": {},
   "outputs": [],
   "source": []
  },
  {
   "cell_type": "code",
   "execution_count": null,
   "metadata": {},
   "outputs": [],
   "source": []
  },
  {
   "cell_type": "code",
   "execution_count": null,
   "metadata": {},
   "outputs": [],
   "source": []
  },
  {
   "cell_type": "code",
   "execution_count": null,
   "metadata": {},
   "outputs": [],
   "source": []
  },
  {
   "cell_type": "code",
   "execution_count": null,
   "metadata": {},
   "outputs": [],
   "source": []
  },
  {
   "cell_type": "code",
   "execution_count": null,
   "metadata": {},
   "outputs": [],
   "source": []
  },
  {
   "cell_type": "code",
   "execution_count": null,
   "metadata": {},
   "outputs": [],
   "source": []
  },
  {
   "cell_type": "code",
   "execution_count": null,
   "metadata": {},
   "outputs": [],
   "source": [
    "# df['index'] = df['index'].astype('str')\n",
    "# df['Volume'] = df['Volume'].astype('str')\n",
    "# df['index']=pd.to_datetime(df['index'].astype(int), format='%Y%m%d')\n",
    "# df['index'].dtype"
   ]
  },
  {
   "cell_type": "code",
   "execution_count": null,
   "metadata": {},
   "outputs": [],
   "source": [
    "# df['index'] = pd.to_datetime(df['index'])\n",
    "\n",
    "# df['index'] = datetime.strptime(df['index'], \"%Y-%m-%d\")"
   ]
  },
  {
   "cell_type": "code",
   "execution_count": null,
   "metadata": {},
   "outputs": [],
   "source": [
    "# df.to_csv(r'C:\\Users\\15124\\Desktop\\Oil_stocks\\API_Gasoline_Practice.csv', index = True)"
   ]
  },
  {
   "cell_type": "code",
   "execution_count": null,
   "metadata": {},
   "outputs": [],
   "source": [
    "# df['Date'],df['Gas'] =df.Gas//1,df.Gas%1\n",
    "# df['new_date'] = pd.to_datetime(df['old_date'].astype(str), format='%Y%m%d')"
   ]
  },
  {
   "cell_type": "code",
   "execution_count": null,
   "metadata": {
    "scrolled": true
   },
   "outputs": [],
   "source": [
    "# df['index']=pd.to_datetime(df['index'].astype(int), format='%Y%m%d')"
   ]
  },
  {
   "cell_type": "code",
   "execution_count": null,
   "metadata": {},
   "outputs": [],
   "source": []
  },
  {
   "cell_type": "code",
   "execution_count": null,
   "metadata": {},
   "outputs": [],
   "source": []
  }
 ],
 "metadata": {
  "kernelspec": {
   "display_name": "Python 3",
   "language": "python",
   "name": "python3"
  },
  "language_info": {
   "codemirror_mode": {
    "name": "ipython",
    "version": 3
   },
   "file_extension": ".py",
   "mimetype": "text/x-python",
   "name": "python",
   "nbconvert_exporter": "python",
   "pygments_lexer": "ipython3",
   "version": "3.7.7"
  }
 },
 "nbformat": 4,
 "nbformat_minor": 4
}
