{
 "cells": [
  {
   "cell_type": "code",
   "execution_count": 1,
   "metadata": {},
   "outputs": [],
   "source": [
    "import numpy as np\n",
    "import pandas as pd\n",
    "#import time dependencies\n",
    "from datetime import datetime\n",
    "import time\n",
    "from datetime import date, timedelta\n",
    "import datetime\n",
    "#import statistics dependencies\n",
    "from scipy.stats import linregress\n",
    "#import matplotlib dependencies\n",
    "import matplotlib.pyplot as plt\n",
    "import matplotlib.dates as mdates\n",
    "import matplotlib.lines as mlines\n",
    "# Import the API key.\n",
    "from config import EIA_key\n",
    "import eia\n",
    "# Import the requests library.\n",
    "import requests"
   ]
  },
  {
   "cell_type": "code",
   "execution_count": 2,
   "metadata": {},
   "outputs": [],
   "source": [
    "API_Call=f\"http://api.eia.gov/series/?api_key={EIA_key}&series_id=PET.WCESTUS1.W\"\n",
    "Series_Name= \"U.S. Ending Stocks of Total Gasoline, Weekly\"\n",
    "Series_ID= \"PET.WGTSTUS1.W\"\n",
    "#install EIA package--- pip install EIA_python\n",
    "#pip install pyOpenSSL to get around SSL error\n",
    "#these are the API keys I set up\n",
    "api_key = EIA_key\n",
    "api = eia.API(api_key)\n",
    "#this is the start and end date for matplotlib\n",
    "start_date = \"2019-01-01\"\n",
    "end_date =  datetime.datetime.now()\n",
    "# end_date= datetime.datetime.now()"
   ]
  },
  {
   "cell_type": "code",
   "execution_count": 3,
   "metadata": {},
   "outputs": [
    {
     "name": "stderr",
     "output_type": "stream",
     "text": [
      "C:\\Users\\15124\\anaconda3\\envs\\PythonData\\lib\\site-packages\\ipykernel_launcher.py:52: SettingWithCopyWarning: \n",
      "A value is trying to be set on a copy of a slice from a DataFrame\n",
      "\n",
      "See the caveats in the documentation: https://pandas.pydata.org/pandas-docs/stable/user_guide/indexing.html#returning-a-view-versus-a-copy\n"
     ]
    }
   ],
   "source": [
    "#import data but still need to clean it\n",
    "series_search = api.data_by_series(series=Series_ID)\n",
    "df = pd.DataFrame(series_search)\n",
    "# define a series and pass through api and Series_ID\n",
    "def retrieve_time_series(api, Series_ID):\n",
    "    \"\"\"\n",
    "    Return the time series dataframe, based on API and unique Series ID\n",
    "    \"\"\"\n",
    "    #Retrieve Data By Series ID \n",
    "    series_search = api.data_by_series(series=Series_ID)\n",
    "    ##Create a pandas dataframe from the retrieved time series\n",
    "    global df\n",
    "    df = pd.DataFrame(series_search)\n",
    "    return df\n",
    "# define another function main to run the script through\n",
    "def main():\n",
    "    \"\"\"\n",
    "    Run main script\n",
    "    \"\"\"\n",
    "    #Create EIA API using your specific API key\n",
    "    api_key = EIA_key\n",
    "    api = eia.API(api_key)\n",
    "#     #Declare desired series ID\n",
    "#     Series_ID=\"PET.WGTSTUS1.W\"\n",
    "    df=retrieve_time_series(api, Series_ID)\n",
    "    #Print the returned dataframe df\n",
    "    print(df)\n",
    "req = requests.get(API_Call, verify = False)\n",
    "\n",
    "#Clean the dataframe by resetting the index because the date is automatically set as the index\n",
    "df.reset_index(inplace=True)\n",
    "df.rename(columns={'U.S. Ending Stocks of Total Gasoline, Weekly (Thousand Barrels)':'Gas'}, inplace=True)\n",
    "df.rename(columns={'index':'Date'}, inplace=True)\n",
    "\n",
    "\n",
    "\n",
    "\n",
    "#the days were repeated so we need to drop the last two days\n",
    "test=df['Date']\n",
    "length = len(test)          # for reading and writing sakes, len(A): lenght of A\n",
    "newtest = [None] * length          # newtest = [none, none, none], go look up empty array creation\n",
    "strLen = 0 \n",
    "\n",
    "for i in range(0, length):             # for loop\n",
    "    str = test[i]                      # get n th element of test\n",
    "    strLen = len(str)                  # for reading sake, the lenght of string that will be spliced\n",
    "    df['Date'][i] = str[0:strLen - 3] # n th element of newtest is the spliced n th element from test\n",
    "    \n",
    "    \n",
    "\n",
    "#the rest of the dates was in a weird format so we have to get them into %Y%m%d format and then convert to datetime\n",
    "def format_date(row_value):\n",
    "    #split string on space and slice out the first two parts\n",
    "    year=row_value.split(\" \")[0]\n",
    "    month=row_value.split(\" \")[1][:2]\n",
    "    day = row_value.split(\" \")[1][2:]\n",
    "    return f\"{year}{month}{day}\"\n",
    "df['Date']=df['Date'].map(format_date)\n",
    "df['Date']=pd.to_datetime(df['Date'].astype(int), format='%Y%m%d')"
   ]
  },
  {
   "cell_type": "code",
   "execution_count": 4,
   "metadata": {},
   "outputs": [],
   "source": [
    "gasoline_date_df=df[(df['Date']>start_date)& (df['Date']< end_date)]"
   ]
  },
  {
   "cell_type": "code",
   "execution_count": 5,
   "metadata": {},
   "outputs": [
    {
     "data": {
      "image/png": "[encoded data removed]",
      "text/plain": [
       "<Figure size 432x288 with 1 Axes>"
      ]
     },
     "metadata": {
      "needs_background": "light"
     },
     "output_type": "display_data"
    }
   ],
   "source": [
    "# plot just crude prices on one graph\n",
    "fig, ax1=plt.subplots(frameon=False)\n",
    "\n",
    "ax1.set_xlabel('Date')\n",
    "ax1.set_ylabel('Gasoline Storage')\n",
    "ax1.plot(gasoline_date_df['Date'],gasoline_date_df['Gas'], color='orange')\n",
    "ax1.xaxis.set_major_formatter(mdates.DateFormatter(\"%Y-%m\"))\n",
    "_=plt.xticks(rotation=45)\n",
    "ax1.tick_params(axis='y')\n",
    "ax1.set_title(\"Gasoline Stocks\")\n",
    "\n",
    "# defining legend style and data\n",
    "blue_line = mlines.Line2D([], [], color='orange', label='Gasoline Stocks')\n",
    "plt.legend(handles=[blue_line])\n",
    "plt.savefig(\"GasolineAPI.png\", bbox_inches='tight')"
   ]
  }
 ],
 "metadata": {
  "kernelspec": {
   "display_name": "Python 3",
   "language": "python",
   "name": "python3"
  },
  "language_info": {
   "codemirror_mode": {
    "name": "ipython",
    "version": 3
   },
   "file_extension": ".py",
   "mimetype": "text/x-python",
   "name": "python",
   "nbconvert_exporter": "python",
   "pygments_lexer": "ipython3",
   "version": "3.7.7"
  }
 },
 "nbformat": 4,
 "nbformat_minor": 4
}
