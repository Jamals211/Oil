{
 "cells": [
  {
   "cell_type": "code",
   "execution_count": 1,
   "metadata": {},
   "outputs": [],
   "source": [
    "import numpy as np\n",
    "import pandas as pd\n",
    "#import time dependencies\n",
    "from datetime import datetime\n",
    "import time\n",
    "from datetime import date, timedelta\n",
    "import datetime\n",
    "#import statistics dependencies\n",
    "from scipy.stats import linregress\n",
    "#import matplotlib dependencies\n",
    "import matplotlib.pyplot as plt\n",
    "import matplotlib.dates as mdates\n",
    "import matplotlib.lines as mlines\n",
    "# Import the API key.\n",
    "from config import EIA_key\n",
    "import eia\n",
    "# Import the requests library.\n",
    "import requests"
   ]
  },
  {
   "cell_type": "code",
   "execution_count": 2,
   "metadata": {},
   "outputs": [],
   "source": [
    "API_Call=f\"http://api.eia.gov/series/?api_key={EIA_key}&series_id=INTL.57-1-RUS-TBPD.M\"\n",
    "Series_Name_Russia= \"Crude oil including lease condensate production, Russia, Monthly\"\n",
    "Series_ID_Russia_Crude= \"INTL.57-1-RUS-TBPD.M\"\n",
    "api_key = EIA_key\n",
    "api = eia.API(api_key)\n",
    "#this is the start and end date for matplotlib\n",
    "series_search = api.data_by_series(series=Series_ID_Russia_Crude)\n",
    "russ_crude_df = pd.DataFrame(series_search)"
   ]
  },
  {
   "cell_type": "code",
   "execution_count": 3,
   "metadata": {},
   "outputs": [],
   "source": [
    "def retrieve_time_series(api, Series_ID_Russia_Crude):\n",
    "    \"\"\"\n",
    "    Return the time series dataframe, based on API and unique Series ID\n",
    "    \"\"\"\n",
    "    #Retrieve Data By Series ID \n",
    "    series_search = api.data_by_series(series=Series_ID_Russia_Crude)\n",
    "    ##Create a pandas dataframe from the retrieved time series\n",
    "    global russ_crude_df\n",
    "    russ_crude_df = pd.DataFrame(series_search)\n",
    "    return russ_crude_df\n",
    "# define another function main to run the script through\n",
    "def main():\n",
    "    \"\"\"\n",
    "    Run main script\n",
    "    \"\"\"\n",
    "    #Create EIA API using your specific API key\n",
    "    api_key = EIA_key\n",
    "    api = eia.API(api_key)\n",
    "#     #Declare desired series ID\n",
    "#     Series_ID=\"PET.WGTSTUS1.W\"\n",
    "    russ_crude_df=retrieve_time_series(api, Series_ID_Russia_Crude)\n",
    "    #Print the returned dataframe df\n",
    "    print(df)\n",
    "req = requests.get(API_Call, verify = False)\n",
    "\n",
    "#Clean the dataframe by resetting the index because the date is automatically set as the index\n",
    "russ_crude_df.reset_index(inplace=True)\n",
    "russ_crude_df.rename(columns={'Crude oil including lease condensate production, Russia, Monthly (thousand barrels per day)':'Russian Crude'}, inplace=True)\n",
    "russ_crude_df.rename(columns={'index':'Date'}, inplace=True)\n",
    "\n",
    "#the days were repeated so we need to drop the last two days\n",
    "test=russ_crude_df['Date']\n",
    "length = len(test)          # for reading and writing sakes, len(A): lenght of A\n",
    "newtest = [None] * length          # newtest = [none, none, none], go look up empty array creation\n",
    "strLen = 0 \n",
    "\n",
    "# for i in range(0, length):             # for loop\n",
    "#     str = test[i]                      # get n th element of test\n",
    "#     strLen = len(str)                  # for reading sake, the lenght of string that will be spliced\n",
    "#     russ_crude_df['Date'][i] = str[0:strLen - 3] # n th element of newtest is the spliced n th element from test\n",
    "\n",
    "#the rest of the dates was in a weird format so we have to get them into %Y%m%d format and then convert to datetime\n",
    "def format_date(row_value):\n",
    "    #split string on space and slice out the first two parts\n",
    "    year=row_value.split(\" \")[0]\n",
    "    month=row_value.split(\" \")[1]#[:2]\n",
    "#     day = row_value.split(\" \")[1][2:]\n",
    "    return f\"{year}{month}\"\n",
    "russ_crude_df['Date']=russ_crude_df['Date'].map(format_date)\n",
    "russ_crude_df['Date']=pd.to_datetime(russ_crude_df['Date'].astype(int), format='%Y%m')\n",
    "#data is in the form YYYYMM with no date\n",
    "#also there is no data from 1973 to 1992 so this comes up as an error\n",
    "russ_crude_df=russ_crude_df[(russ_crude_df['Date']>\"1991-12-01\")]\n"
   ]
  },
  {
   "cell_type": "code",
   "execution_count": 4,
   "metadata": {},
   "outputs": [
    {
     "data": {
      "image/png": "[encoded data removed]",
      "text/plain": [
       "<Figure size 432x288 with 1 Axes>"
      ]
     },
     "metadata": {
      "needs_background": "light"
     },
     "output_type": "display_data"
    }
   ],
   "source": [
    "start_date = \"2016-01-01\"\n",
    "end_date =  datetime.datetime.now()\n",
    "russ_date_crude_df=russ_crude_df[(russ_crude_df['Date']>start_date)& (russ_crude_df['Date']< end_date)]\n",
    "\n",
    "# plot just crude prices on one graph\n",
    "fig, ax1=plt.subplots(frameon=False)\n",
    "\n",
    "ax1.set_xlabel('Date')\n",
    "ax1.set_ylabel('Russian Crude Production')\n",
    "ax1.plot(russ_date_crude_df['Date'],russ_date_crude_df['Russian Crude'], color='g')\n",
    "ax1.xaxis.set_major_formatter(mdates.DateFormatter(\"%Y-%m\"))\n",
    "_=plt.xticks(rotation=45)\n",
    "ax1.tick_params(axis='y')\n",
    "ax1.set_title(\"Russian Crude Production\")\n",
    "\n",
    "# defining legend style and data\n",
    "blue_line = mlines.Line2D([], [], color='g', label='Russian Crude Production')\n",
    "plt.legend(handles=[blue_line])\n",
    "plt.savefig(\"RussianCrudeAPI.png\", bbox_inches='tight')"
   ]
  }
 ],
 "metadata": {
  "kernelspec": {
   "display_name": "PythonData",
   "language": "python",
   "name": "pythondata"
  },
  "language_info": {
   "codemirror_mode": {
    "name": "ipython",
    "version": 3
   },
   "file_extension": ".py",
   "mimetype": "text/x-python",
   "name": "python",
   "nbconvert_exporter": "python",
   "pygments_lexer": "ipython3",
   "version": "3.7.7"
  }
 },
 "nbformat": 4,
 "nbformat_minor": 4
}
