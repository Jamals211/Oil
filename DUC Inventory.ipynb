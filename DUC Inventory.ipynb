{
 "cells": [
  {
   "cell_type": "code",
   "execution_count": 1,
   "metadata": {},
   "outputs": [],
   "source": [
    "import numpy as np\n",
    "import pandas as pd\n",
    "#import time dependencies\n",
    "from datetime import datetime\n",
    "import time\n",
    "from datetime import date, timedelta\n",
    "import datetime\n",
    "#import statistics dependencies\n",
    "from scipy.stats import linregress\n",
    "#import matplotlib dependencies\n",
    "import matplotlib.pyplot as plt\n",
    "import matplotlib.dates as mdates\n",
    "import matplotlib.lines as mlines\n",
    "# Import the API key.\n",
    "from config import EIA_key\n",
    "import eia\n",
    "# Import the requests library.\n",
    "import requests\n",
    "import matplotlib.ticker as mticker\n",
    "import matplotlib as mpl"
   ]
  },
  {
   "cell_type": "code",
   "execution_count": 2,
   "metadata": {},
   "outputs": [],
   "source": [
    "start_date = \"2019-01-01\"\n",
    "end_date =  datetime.datetime.now()\n",
    "# end_date= datetime.datetime.now()"
   ]
  },
  {
   "cell_type": "code",
   "execution_count": 3,
   "metadata": {
    "scrolled": true
   },
   "outputs": [],
   "source": [
    "DUCInventory='duc-data.csv'\n",
    "DUCInventory_df=pd.read_csv(DUCInventory, header=[1]) #header=[0,1]\n",
    "DUCInventory_df=pd.read_csv(DUCInventory, header=[2])\n",
    "# DUCInventory_df=DUCInventory_df.columns.droplevel(5)\n",
    "DUCInventory_df.columns = ['Date','Anadarko_Drilled','Anadarko_Completed','Anadarko_DUC','Unnamed: 4','Appalachia_Drilled','Appalachia_Completed','Appalachia_DUC','Unnamed: 8','Bakken_Drilled','Bakken_Completed','Bakken_DUC','Unnamed: 12','Eagle Ford_Drilled','Eagle Ford_Completed', 'Eagle Ford_DUC', 'Unnamed: 16','Haynesville_Drilled','Haynesville_Completed','Haynesville_DUC', 'Unnamed: 20', 'Niobrara_Drilled','Niobrara_Completed', 'Niobrara_DUC','Unnamed: 24','Permian_Drilled','Permian_Completed', 'Permian_DUC','Unnamed: 28', 'DPR_Drilled','DPR_Completed','DPR_DUC']                                         #\n",
    "\n",
    "\n",
    "del DUCInventory_df['Unnamed: 4']\n",
    "del DUCInventory_df['Unnamed: 8']\n",
    "del DUCInventory_df['Unnamed: 12']\n",
    "del DUCInventory_df['Unnamed: 16']\n",
    "del DUCInventory_df['Unnamed: 20']\n",
    "del DUCInventory_df['Unnamed: 24']\n",
    "del DUCInventory_df['Unnamed: 28']\n",
    "\n",
    "DUCInventory_df=DUCInventory_df.iloc[2:81, ]"
   ]
  },
  {
   "cell_type": "code",
   "execution_count": 4,
   "metadata": {},
   "outputs": [],
   "source": [
    "#The data was in an object, so we need to convert that to an int\n",
    "#We needed to get rid of the commas so we convt to a string and then to an int\n",
    "DUCInventory_df['Anadarko_DUC']=pd.to_numeric(DUCInventory_df['Anadarko_DUC'].astype(str).str.replace(',',''), errors='coerce')\n",
    "DUCInventory_df['Appalachia_DUC']=pd.to_numeric(DUCInventory_df['Appalachia_DUC'].astype(str).str.replace(',',''), errors='coerce')\n",
    "DUCInventory_df['Bakken_DUC']=pd.to_numeric(DUCInventory_df['Bakken_DUC'].astype(str).str.replace(',',''), errors='coerce')\n",
    "DUCInventory_df['Eagle Ford_DUC']=pd.to_numeric(DUCInventory_df['Eagle Ford_DUC'].astype(str).str.replace(',',''), errors='coerce')\n",
    "DUCInventory_df['Haynesville_DUC']=pd.to_numeric(DUCInventory_df['Haynesville_DUC'].astype(str).str.replace(',',''), errors='coerce')\n",
    "DUCInventory_df['Niobrara_DUC']=pd.to_numeric(DUCInventory_df['Niobrara_DUC'].astype(str).str.replace(',',''), errors='coerce')\n",
    "DUCInventory_df['Permian_DUC']=pd.to_numeric(DUCInventory_df['Permian_DUC'].astype(str).str.replace(',',''), errors='coerce')\n",
    "DUCInventory_df['DPR_DUC']=pd.to_numeric(DUCInventory_df['DPR_DUC'].astype(str).str.replace(',',''), errors='coerce')\n",
    "# DUCInventory_df=pd.to_numeric(DUCInventory_df.astype(str).str.replace(',',''), errors='coerce')\n",
    "# data=np.array(DUCInventory_df['Anadarko_DUC'], dtype=np.float32)\n",
    "# DUCInventory_df['Anadarko_DUC'].astypes(str)\n",
    "# data = np.array(data, dtype=np.float32)"
   ]
  },
  {
   "cell_type": "code",
   "execution_count": 5,
   "metadata": {},
   "outputs": [
    {
     "data": {
      "text/plain": [
       "dtype('O')"
      ]
     },
     "execution_count": 5,
     "metadata": {},
     "output_type": "execute_result"
    }
   ],
   "source": [
    "#access the first column\n",
    "# data.iloc[:, <column_number>]\n",
    "DUCInventory_df.iloc[:,0].dtypes"
   ]
  },
  {
   "cell_type": "code",
   "execution_count": 6,
   "metadata": {},
   "outputs": [
    {
     "data": {
      "text/plain": [
       "2    2014-01-01\n",
       "3    2014-02-01\n",
       "4    2014-03-01\n",
       "5    2014-04-01\n",
       "6    2014-05-01\n",
       "        ...    \n",
       "76   2020-03-01\n",
       "77   2020-04-01\n",
       "78   2020-05-01\n",
       "79   2020-06-01\n",
       "80   2020-07-01\n",
       "Name: Date, Length: 79, dtype: datetime64[ns]"
      ]
     },
     "execution_count": 6,
     "metadata": {},
     "output_type": "execute_result"
    }
   ],
   "source": [
    "#if have a date format like Jan-14 for the month and year:\n",
    "#then you can use pd.to_datetime(df['column'], format=%b-%y)\n",
    "DUCInventory_df['Date'] = pd.to_datetime(DUCInventory_df[\"Date\"], format='%b-%y') #.dt.time\n",
    "DUCInventory_df['Date']"
   ]
  },
  {
   "cell_type": "code",
   "execution_count": 7,
   "metadata": {},
   "outputs": [],
   "source": [
    "# DUCInventory_date_df = pd.DataFrame(DUCInventory_date_df)"
   ]
  },
  {
   "cell_type": "code",
   "execution_count": 8,
   "metadata": {},
   "outputs": [],
   "source": [
    "DUCInventory_date_df = DUCInventory_df[(DUCInventory_df['Date']> start_date) & (DUCInventory_df['Date']< end_date)]"
   ]
  },
  {
   "cell_type": "code",
   "execution_count": 9,
   "metadata": {},
   "outputs": [
    {
     "name": "stderr",
     "output_type": "stream",
     "text": [
      "C:\\Users\\15124\\anaconda3\\envs\\PythonData\\lib\\site-packages\\ipykernel_launcher.py:7: SettingWithCopyWarning: \n",
      "A value is trying to be set on a copy of a slice from a DataFrame.\n",
      "Try using .loc[row_indexer,col_indexer] = value instead\n",
      "\n",
      "See the caveats in the documentation: https://pandas.pydata.org/pandas-docs/stable/user_guide/indexing.html#returning-a-view-versus-a-copy\n",
      "  import sys\n"
     ]
    },
    {
     "data": {
      "text/plain": [
       "dtype('int64')"
      ]
     },
     "execution_count": 9,
     "metadata": {},
     "output_type": "execute_result"
    }
   ],
   "source": [
    "# The dtype of the NumPy record array for the field date is datetime64[D] \n",
    "# which means it is a 64-bit np.datetime64 in 'day' units. \n",
    "# While this format is more portable, \n",
    "# Matplotlib cannot plot this format natively yet. \n",
    "# We can plot this data by changing the dates to datetime.date \n",
    "# instances instead, which can be achieved by converting to an object array\n",
    "DUCInventory_date_df['Permian_DUC'] = DUCInventory_date_df['Permian_DUC']\n",
    "DUCInventory_date_df['Permian_DUC'].dtypes"
   ]
  },
  {
   "cell_type": "code",
   "execution_count": 10,
   "metadata": {},
   "outputs": [
    {
     "data": {
      "text/plain": [
       "[<matplotlib.lines.Line2D at 0x1bec2edc6c8>]"
      ]
     },
     "execution_count": 10,
     "metadata": {},
     "output_type": "execute_result"
    },
    {
     "data": {
      "image/png": "[encoded data removed]",
      "text/plain": [
       "<Figure size 432x288 with 1 Axes>"
      ]
     },
     "metadata": {
      "needs_background": "light"
     },
     "output_type": "display_data"
    }
   ],
   "source": [
    "# #This is kind of a cool trick. \n",
    "# I plotted The whole thing from 2014 to now in line 7 with DUCInventory_df\n",
    "# Then I plotted only from 2019 at the bottom with DUCInventory_date_df to get another color\n",
    "\n",
    "from matplotlib.ticker import FixedLocator, LinearLocator, FormatStrFormatter\n",
    "# plot just crude prices on one graph\n",
    "fig, ax=plt.subplots(frameon=False)\n",
    "\n",
    "ax.set_xlabel('Date')\n",
    "ax.set_ylabel('DUC Inventory')\n",
    "ax.plot(DUCInventory_df['Date'],DUCInventory_df['DPR_DUC'], color='orange')\n",
    "ax.xaxis.set_major_formatter(mdates.DateFormatter(\"%Y-%m\"))\n",
    "_=plt.xticks(rotation=45)\n",
    "# ax.tick_params(axis='y', length= 10)\n",
    "ax.set_title(\"Total DUC Inventory\")\n",
    "# ax.grid()\n",
    "\n",
    "# defining legend style and data\n",
    "blue_line = mlines.Line2D([], [], color='CornflowerBlue', label='Total DUC Inventory')\n",
    "plt.legend(handles=[blue_line])\n",
    "plt.savefig(\"Total DUC Inventory.png\", bbox_inches='tight')\n",
    "plt.plot(DUCInventory_date_df['Date'],DUCInventory_date_df['DPR_DUC'])\n",
    "# plt.show()"
   ]
  },
  {
   "cell_type": "code",
   "execution_count": 11,
   "metadata": {},
   "outputs": [
    {
     "data": {
      "text/plain": [
       "[]"
      ]
     },
     "execution_count": 11,
     "metadata": {},
     "output_type": "execute_result"
    },
    {
     "data": {
      "image/png": "[encoded data removed]",
      "text/plain": [
       "<Figure size 432x288 with 1 Axes>"
      ]
     },
     "metadata": {
      "needs_background": "light"
     },
     "output_type": "display_data"
    }
   ],
   "source": [
    "from matplotlib.ticker import FixedLocator, LinearLocator, FormatStrFormatter\n",
    "# plot just crude prices on one graph\n",
    "fig, ax=plt.subplots(frameon=False)\n",
    "\n",
    "ax.set_xlabel('Date')\n",
    "ax.set_ylabel('DUC Inventory')\n",
    "ax.plot(DUCInventory_date_df['Date'],DUCInventory_date_df['Permian_DUC'], color='CornflowerBlue')\n",
    "ax.xaxis.set_major_formatter(mdates.DateFormatter(\"%Y-%m\"))\n",
    "_=plt.xticks(rotation=45)\n",
    "# ax.tick_params(axis='y', length= 10)\n",
    "ax.set_title(\"DUC Inventory By Region\")\n",
    "ax.yaxis.set_major_formatter(mpl.ticker.StrMethodFormatter('{x:,.0f}'))\n",
    "# ax.grid()\n",
    "\n",
    "# defining legend style and data\n",
    "blue_line = mlines.Line2D([], [], color='CornflowerBlue', label='Permian')\n",
    "plt.legend(handles=[blue_line])\n",
    "plt.savefig(\"Total DUC Inventory.png\", bbox_inches='tight')\n",
    "plt.plot()\n",
    "# plt.show()"
   ]
  },
  {
   "cell_type": "code",
   "execution_count": 12,
   "metadata": {},
   "outputs": [
    {
     "data": {
      "text/plain": [
       "Date                     datetime64[ns]\n",
       "Anadarko_Drilled                 object\n",
       "Anadarko_Completed               object\n",
       "Anadarko_DUC                      int64\n",
       "Appalachia_Drilled               object\n",
       "Appalachia_Completed             object\n",
       "Appalachia_DUC                    int64\n",
       "Bakken_Drilled                   object\n",
       "Bakken_Completed                 object\n",
       "Bakken_DUC                        int64\n",
       "Eagle Ford_Drilled               object\n",
       "Eagle Ford_Completed             object\n",
       "Eagle Ford_DUC                    int64\n",
       "Haynesville_Drilled              object\n",
       "Haynesville_Completed            object\n",
       "Haynesville_DUC                   int64\n",
       "Niobrara_Drilled                 object\n",
       "Niobrara_Completed               object\n",
       "Niobrara_DUC                      int64\n",
       "Permian_Drilled                  object\n",
       "Permian_Completed                object\n",
       "Permian_DUC                       int64\n",
       "DPR_Drilled                      object\n",
       "DPR_Completed                    object\n",
       "DPR_DUC                           int64\n",
       "dtype: object"
      ]
     },
     "execution_count": 12,
     "metadata": {},
     "output_type": "execute_result"
    }
   ],
   "source": [
    "start_date_last = \"2020-06-01\"\n",
    "end_date_last =  datetime.datetime.now()\n",
    "# end_date= datetime.datetime.now()\n",
    "DUCInventory_last_df = DUCInventory_df[(DUCInventory_df['Date']> start_date_last) & (DUCInventory_df['Date']< end_date_last)]\n",
    "DUCInventory_last_df.dtypes"
   ]
  },
  {
   "cell_type": "code",
   "execution_count": 13,
   "metadata": {},
   "outputs": [],
   "source": [
    "# # plot crude storage and gasoline storage on one graph with two axes\n",
    "# fig, ax1=plt.subplots(frameon=False)\n",
    "# ax1.set_xlabel('Date')\n",
    "# ax1.set_ylabel('DUC Inventory')\n",
    "# ax1.plot(DUCInventory_last_df['Date'],DUCInventory_last_df['Permian_DUC'], color='g')\n",
    "# # ax1.plot(DUCInventory_date_df['Date'],DUCInventory_date_df['DPR_DUC'], color='blue')\n",
    "# ax1.xaxis.set_major_formatter(mdates.DateFormatter(\"%Y-%m\"))\n",
    "# _=plt.xticks(rotation=45)\n",
    "# _=plt.yticks(rotation=45)\n",
    "# ax1.tick_params(axis='y')\n",
    "# ax1.set_title(\"DUC Inventory\")\n",
    "# ax1.grid(False)\n",
    "\n",
    "# y=DUCInventory_date_df['Permian_DUC']\n",
    "# y_ticks = np.arange(0, 100, 10)\n",
    "# plt.yticks(y_ticks)\n",
    "# # ax1.set_ylim([0, 80])\n",
    "# # ax1.set_yscale('linear')\n",
    "# ax1.grid()\n",
    "\n",
    "# values = range(20)\n",
    "\n",
    "# # ax2=ax1.twinx()\n",
    "# # ax2.set_ylabel('DUC Inventory')\n",
    "# # ax2.plot(gasoline_date_df['Date'], gasoline_date_df['Gasoline Storage'], color='orange')\n",
    "# # ax2.tick_params(axis='y')\n",
    "\n",
    "# # defining legend style and data\n",
    "# green_line = mlines.Line2D([], [], color='g', label='Permian DUC Inventory')\n",
    "# orange_line = mlines.Line2D([], [], color='blue', label='Total DUCs')\n",
    "# plt.legend(handles=[green_line], loc='upper left')\n",
    "\n",
    "# ax1.plot(values)\n",
    "# plt.savefig(\"DUC_Inventory.png\", bbox_inches='tight')\n",
    "# plt.close()"
   ]
  },
  {
   "cell_type": "code",
   "execution_count": 14,
   "metadata": {},
   "outputs": [],
   "source": [
    "# DUCInventory_df.dtypes"
   ]
  },
  {
   "cell_type": "code",
   "execution_count": 17,
   "metadata": {},
   "outputs": [
    {
     "ename": "IndexError",
     "evalue": "list index out of range",
     "output_type": "error",
     "traceback": [
      "\u001b[1;31m---------------------------------------------------------------------------\u001b[0m",
      "\u001b[1;31mIndexError\u001b[0m                                Traceback (most recent call last)",
      "\u001b[1;32m<ipython-input-17-1a230e21a853>\u001b[0m in \u001b[0;36m<module>\u001b[1;34m\u001b[0m\n\u001b[0;32m     14\u001b[0m \u001b[1;32mfor\u001b[0m \u001b[0mi\u001b[0m \u001b[1;32min\u001b[0m \u001b[0mrange\u001b[0m\u001b[1;33m(\u001b[0m\u001b[0mnumber_groups\u001b[0m\u001b[1;33m)\u001b[0m\u001b[1;33m:\u001b[0m\u001b[1;33m\u001b[0m\u001b[1;33m\u001b[0m\u001b[0m\n\u001b[0;32m     15\u001b[0m     ax.bar(x=np.arange(len(categorical_1)) + i*bin_width, \n\u001b[1;32m---> 16\u001b[1;33m            \u001b[0mheight\u001b[0m\u001b[1;33m=\u001b[0m\u001b[0mnumerical\u001b[0m\u001b[1;33m[\u001b[0m\u001b[0mi\u001b[0m\u001b[1;33m]\u001b[0m\u001b[1;33m,\u001b[0m\u001b[1;33m\u001b[0m\u001b[1;33m\u001b[0m\u001b[0m\n\u001b[0m\u001b[0;32m     17\u001b[0m            \u001b[0mwidth\u001b[0m\u001b[1;33m=\u001b[0m\u001b[0mbin_width\u001b[0m\u001b[1;33m,\u001b[0m\u001b[1;33m\u001b[0m\u001b[1;33m\u001b[0m\u001b[0m\n\u001b[0;32m     18\u001b[0m            \u001b[0mcolor\u001b[0m\u001b[1;33m=\u001b[0m\u001b[0mcolors\u001b[0m\u001b[1;33m[\u001b[0m\u001b[0mi\u001b[0m\u001b[1;33m]\u001b[0m\u001b[1;33m,\u001b[0m\u001b[1;33m\u001b[0m\u001b[1;33m\u001b[0m\u001b[0m\n",
      "\u001b[1;31mIndexError\u001b[0m: list index out of range"
     ]
    },
    {
     "data": {
      "image/png": "[encoded data removed]",
      "text/plain": [
       "<Figure size 432x432 with 1 Axes>"
      ]
     },
     "metadata": {
      "needs_background": "light"
     },
     "output_type": "display_data"
    }
   ],
   "source": [
    "import matplotlib.pyplot as plt\n",
    "from matplotlib.dates import date2num\n",
    "import datetime\n",
    "import matplotlib as mpl\n",
    "\n",
    "numerical=[DUCInventory_date_df['Bakken_DUC'][80],DUCInventory_date_df['Permian_DUC'][80],DUCInventory_date_df['DPR_DUC'][80]]\n",
    "categorical_1=DUCInventory_date_df['Date'][80].strftime('%m/%Y')\n",
    "colors=['green', 'red', 'blue']\n",
    "\n",
    "\n",
    "number_groups = len(categorical_1) \n",
    "bin_width = 1.0/(number_groups+1)\n",
    "fig, ax = plt.subplots(figsize=(6,6))\n",
    "for i in range(number_groups):\n",
    "    ax.bar(x=np.arange(len(categorical_1)) + i*bin_width, \n",
    "           height=numerical[i],\n",
    "           width=bin_width,\n",
    "           color=colors[i],\n",
    "           align='center')\n",
    "ax.set_xticks(np.arange(len(categorical_1)) + number_groups/(2*(number_groups+1)))\n",
    "# number_groups/(2*(number_groups+1)): offset of xticklabel\n",
    "ax.set_xticklabels(categorical_1)\n",
    "ax.legend(categorical_1, facecolor='w')\n",
    "plt.show()\n",
    "\n",
    "\n",
    "\n",
    "\n",
    "\n",
    "\n",
    "\n",
    "\n",
    "\n",
    "\n",
    "# fig, ax =plt.subplots(figsize=(15,7))\n",
    "# DUCInventory_date_df.plot(ax=ax)\n",
    "# ax.xaxis.set_major_locator(mdates.WeekdayLocator())\n",
    "# ax.xaxis.set_major_formatter(mdates.DateFormatter('%b %d'))\n",
    "\n",
    "# barwidth=2\n",
    "# plt.bar(y,x, align='center', alpha=0.5)\n",
    "# # plt.xticks(DUCInventory_date_df['Date'][80], objects)\n",
    "# plt.ylabel('Usage')\n",
    "# plt.title('Programming language usage')\n",
    "\n",
    "\n",
    "\n",
    "\n",
    "\n",
    "# x=DUCInventory_df['Date'][80]\n",
    "# x = date2num(x)\n",
    "\n",
    "# ax = plt.subplot()\n",
    "# ax.bar(x-0.01, DUCInventory_date_df['Anadarko_DUC'][80], width=0.1, color='b', align='center')\n",
    "# ax.bar(x, DUCInventory_date_df['Appalachia_DUC'], width=0.1, color='g', align='center')\n",
    "# ax.bar(x+0.2, DUCInventory_date_df['Bakken_DUC'][80], width=0.1, color='r', align='center')\n",
    "# ax.yaxis.set_major_formatter(mpl.ticker.StrMethodFormatter('{x:,.0f}'))\n",
    "# ax.xaxis_date()\n",
    "# _=plt.xticks(rotation=45)\n",
    "\n",
    "# plt.show()"
   ]
  },
  {
   "cell_type": "code",
   "execution_count": null,
   "metadata": {},
   "outputs": [],
   "source": [
    "fig =plt.subplots(figsize=(12,8))\n",
    "barWidth=0.25\n",
    "\n",
    "# labels =  np.arange(2015,2020)\n",
    "labels=[DUCInventory_df['Date'][80]]\n",
    "\n",
    "\n",
    "\n",
    "# Anadarko=plt.bar(labels,DUCInventory_date_df['Anadarko_DUC'][80], color='r', align='edge',width=barWidth)\n",
    "# Appalachia= plt.bar(labels,DUCInventory_date_df['Appalachia_DUC'][80], color='blue',align='edge', width=barWidth)\n",
    "# Bakken= plt.bar(labels,DUCInventory_date_df['Bakken_DUC'][80], color='green',align='edge', width=barWidth)\n",
    "# EagleFord= plt.bar(labels,DUCInventory_date_df['Eagle Ford_DUC'][80], color='orange',align='edge', width=barWidth)\n",
    "# Haynesville=plt.bar(labels,DUCInventory_date_df['Haynesville_DUC'][80], color='yellow',align='edge', width=barWidth)\n",
    "# Niobrara=plt.bar(labels,DUCInventory_date_df['Niobrara_DUC'][80], color='g',align='edge', width=barWidth)\n",
    "# Permian=plt.bar(labels,DUCInventory_date_df['Permian_DUC'][80], color='b',align='edge', width=barWidth)\n",
    "\n",
    "\n",
    "\n",
    "# bp_dict = plt.bar(labels, list(map(float, scores[0])), align='edge', width=-0.4)\n",
    "# bp_dict = plt.bar(labels, list(map(float, scores[1])), align='edge', width=0.4)\n",
    "\n",
    "\n",
    "# ax1=plot.subplot()\n",
    "ax1.bar(labels,DUCInventory_date_df['Anadarko_DUC'][80], color='r', align='edge',width=barWidth)\n",
    "ax1.bar(labels,DUCInventory_date_df['Appalachia_DUC'][80], color='blue',align='edge', width=barWidth)\n",
    "ax1.bar(labels,DUCInventory_date_df['Bakken_DUC'][80], color='green',align='edge', width=barWidth)\n",
    "ax1.bar(labels,DUCInventory_date_df['Eagle Ford_DUC'][80], color='orange',align='edge', width=barWidth)\n",
    "ax1.bar(labels,DUCInventory_date_df['Haynesville_DUC'][80], color='yellow',align='edge', width=barWidth)\n",
    "ax1.bar(labels,DUCInventory_date_df['Niobrara_DUC'][80], color='g',align='edge', width=barWidth)\n",
    "ax1.bar(labels,DUCInventory_date_df['Permian_DUC'][80], color='b',align='edge', width=barWidth)\n",
    "ax1.xaxis_date()\n",
    "ax1.autoscale(tight=True)\n",
    "\n",
    "plt.xlabel('Basins', fontweight='bold')\n",
    "plt.ylabel('DUC Inventory', fontweight='bold')\n",
    "plt.title (\"DUC Inventory By Shale Play\", fontweight='bold')\n",
    "# plt.grid()\n",
    "# plt.legend(loc='upper right')\n",
    "# plt.legend(fontsize=\"12\", title=\"Shale Plays\")\n",
    "# lgnd.legendHandles[0]._sizes = [60]\n",
    "# lgnd.legendHandles[1]._sizes = [60]\n",
    "# lgnd.legendHandles[2]._sizes = [60]\n",
    "# lgnd.get_title().set_fontsize(12)\n",
    "\n",
    "\n",
    "plt.style.use('fivethirtyeight')\n",
    "plt.show()\n"
   ]
  },
  {
   "cell_type": "code",
   "execution_count": null,
   "metadata": {},
   "outputs": [],
   "source": [
    "# def bar_plot(ax, data, colors=None, total_width=0.8, single_width=1, legend=True):\n",
    "#     \"\"\"Draws a bar plot with multiple bars per data point.\n",
    "\n",
    "#     Parameters\n",
    "#     ----------\n",
    "#     ax : matplotlib.pyplot.axis\n",
    "#         The axis we want to draw our plot on.\n",
    "\n",
    "#     data: dictionary\n",
    "#         A dictionary containing the data we want to plot. Keys are the names of the\n",
    "#         data, the items is a list of the values.\n",
    "\n",
    "#         Example:\n",
    "#         data = {\n",
    "#             \"x\":[1,2,3],\n",
    "#             \"y\":[1,2,3],\n",
    "#             \"z\":[1,2,3],\n",
    "#         }\n",
    "\n",
    "#     colors : array-like, optional\n",
    "#         A list of colors which are used for the bars. If None, the colors\n",
    "#         will be the standard matplotlib color cyle. (default: None)\n",
    "\n",
    "#     total_width : float, optional, default: 0.8\n",
    "#         The width of a bar group. 0.8 means that 80% of the x-axis is covered\n",
    "#         by bars and 20% will be spaces between the bars.\n",
    "\n",
    "#     single_width: float, optional, default: 1\n",
    "#         The relative width of a single bar within a group. 1 means the bars\n",
    "#         will touch eachother within a group, values less than 1 will make\n",
    "#         these bars thinner.\n",
    "\n",
    "#     legend: bool, optional, default: True\n",
    "#         If this is set to true, a legend will be added to the axis.\n",
    "#     \"\"\"\n",
    "\n",
    "#     # Check if colors where provided, otherwhise use the default color cycle\n",
    "#     if colors is None:\n",
    "#         colors = plt.rcParams['axes.prop_cycle'].by_key()['color']\n",
    "\n",
    "#     # Number of bars per group\n",
    "#     n_bars = len(data)\n",
    "\n",
    "#     # The width of a single bar\n",
    "#     bar_width = total_width / n_bars\n",
    "\n",
    "#     # List containing handles for the drawn bars, used for the legend\n",
    "#     bars = []\n",
    "\n",
    "#     # Iterate over all data\n",
    "#     for i, (name, values) in enumerate(data.items()):\n",
    "#         # The offset in x direction of that bar\n",
    "#         x_offset = (i - n_bars / 2) * bar_width + bar_width / 2\n",
    "\n",
    "#         # Draw a bar for every value of that type\n",
    "#         for x, y in enumerate(values):\n",
    "#             bar = ax.bar(x + x_offset, y, width=bar_width * single_width, color=colors[i % len(colors)])\n",
    "\n",
    "#         # Add a handle to the last drawn bar, which we'll need for the legend\n",
    "#         bars.append(bar[0])\n",
    "\n",
    "#     # Draw legend if we need\n",
    "#     if legend:\n",
    "#         ax.legend(bars, data.keys())\n",
    "\n",
    "        \n",
    "# # Anadarko=plt.bar(labels,DUCInventory_date_df['Anadarko_DUC'][80], color='r', align='edge',width=barWidth)\n",
    "# # Appalachia= plt.bar(labels,DUCInventory_date_df['Appalachia_DUC'][80], color='blue',align='edge', width=barWidth)\n",
    "# # Bakken= plt.bar(labels,DUCInventory_date_df['Bakken_DUC'][80], color='green',align='edge', width=barWidth)\n",
    "# # EagleFord= plt.bar(labels,DUCInventory_date_df['Eagle Ford_DUC'][80], color='orange',align='edge', width=barWidth)\n",
    "# # Haynesville=plt.bar(labels,DUCInventory_date_df['Haynesville_DUC'][80], color='yellow',align='edge', width=barWidth)\n",
    "# # Niobrara=plt.bar(labels,DUCInventory_date_df['Niobrara_DUC'][80], color='g',align='edge', width=barWidth)\n",
    "# # Permian=plt.bar(labels,DUCInventory_date_df['Permian_DUC'][80], color='b',align='edge', width=barWidth)      \n",
    "        \n",
    "\n",
    "# #     plt.xticks(range(5), [\"one\", \"two\", \"three\", \"four\", \"five\"])\n",
    "        \n",
    "        \n",
    "    \n",
    "\n",
    "# if __name__ == \"__main__\":\n",
    "#     # Usage example:\n",
    "#     data = {\n",
    "#         DUCInventory_date_df['Anadarko_DUC'][80],\n",
    "#         DUCInventory_date_df['Appalachia_DUC'][80],\n",
    "#         DUCInventory_date_df['Bakken_DUC'][80],\n",
    "#         DUCInventory_date_df['Eagle Ford_DUC'][80],\n",
    "#         DUCInventory_date_df['Haynesville_DUC'][80],\n",
    "#         DUCInventory_date_df['Niobrara_DUC'][80],\n",
    "#         DUCInventory_date_df['Permian_DUC'][80],\n",
    "#     }\n",
    "\n",
    "#     fig, ax = plt.subplots()\n",
    "#     bar_plot(ax, data, total_width=.8, single_width=.9)\n",
    "#     plt.show()"
   ]
  },
  {
   "cell_type": "code",
   "execution_count": null,
   "metadata": {},
   "outputs": [],
   "source": [
    "# anadarko_DUC['']=pd.to_numeric(DUCInventory_df['Anadarko_DUC'].astype(str).str.replace(',',''), errors='coerce')"
   ]
  },
  {
   "cell_type": "code",
   "execution_count": null,
   "metadata": {},
   "outputs": [],
   "source": [
    "\n",
    "# plt.yticks(rotation=90)\n",
    "#to change the number of ticks, np.arrange(start,stop, step)\n",
    "# y_ticks = np.arange(1600, 4000, 10)\n",
    "# plt.yticks(y_ticks)\n",
    "\n",
    "\n",
    "\n",
    "# ax = plt.gca().invert_yaxis()\n",
    "\n",
    "# ymin, ymax = ax.get_ylim()\n",
    "# custom_ticks = np.linspace(ymin, ymax, 10, dtype=int)\n",
    "# ax.set_yticks(custom_ticks)\n",
    "# ax.set_yticklabels(custom_ticks)\n",
    "# ax.yaxis.set_major_locator(plt.MaxNLocator(5))\n",
    "\n",
    "\n",
    "# ylims = ax1.get_ylim()\n",
    "# ymajorlocator = FixedLocator(ylims)\n",
    "# ax.yaxis.set_major_locator(ymajorlocator)\n",
    "# ax.yaxis.set_minor_locator(LinearLocator(10))\n",
    "# ymajorformatter = FormatStrFormatter('%.2f')\n",
    "# ax.yaxis.set_major_formatter(ymajorformatter)\n",
    "\n",
    "\n",
    "# ylims = ax.get_ylim()\n",
    "# ax.set_yticks(ylims)\n",
    "\n",
    "\n",
    "\n",
    "# ax.get_xaxis().get_major_formatter().set_useOffset(False)\n",
    "\n"
   ]
  }
 ],
 "metadata": {
  "kernelspec": {
   "display_name": "PythonData",
   "language": "python",
   "name": "pythondata"
  },
  "language_info": {
   "codemirror_mode": {
    "name": "ipython",
    "version": 3
   },
   "file_extension": ".py",
   "mimetype": "text/x-python",
   "name": "python",
   "nbconvert_exporter": "python",
   "pygments_lexer": "ipython3",
   "version": "3.7.7"
  }
 },
 "nbformat": 4,
 "nbformat_minor": 4
}
